{
  "nbformat": 4,
  "nbformat_minor": 0,
  "metadata": {
    "colab": {
      "provenance": [],
      "toc_visible": true,
      "authorship_tag": "ABX9TyN7YaQmcKyiqZS9JkFE6zX8",
      "include_colab_link": true
    },
    "kernelspec": {
      "name": "python3",
      "display_name": "Python 3"
    },
    "language_info": {
      "name": "python"
    }
  },
  "cells": [
    {
      "cell_type": "markdown",
      "metadata": {
        "id": "view-in-github",
        "colab_type": "text"
      },
      "source": [
        "<a href=\"https://colab.research.google.com/github/stinkmtul/Kuliah-Data_Mining/blob/main/businessunderstanding.ipynb\" target=\"_parent\"><img src=\"https://colab.research.google.com/assets/colab-badge.svg\" alt=\"Open In Colab\"/></a>"
      ]
    },
    {
      "cell_type": "markdown",
      "source": [],
      "metadata": {
        "id": "SB1fl2A0VS9u"
      }
    },
    {
      "cell_type": "markdown",
      "source": [
        "# **Analisis Preferensi Konsumen dalam Meningkatkan Daya Saing: Studi Kasus Chocolate Ratings**\n",
        "## **Business Understanding**\n",
        "### **Business Objective**\n",
        "\n",
        "Tujuan bisnis dari dataset chocolate ratings ini adalah untuk menganalisis preferensi konsumen dalam meningkatkan kualitas produk dari segi rasa, tekstur sehingga dapat meningkatkan kepuasan pelanggan. Selain itu, menganalisis persaingan industri dengan membandingkan rating produk mereka dengan pesaing, agar dapat mengidentifikasi kekuatan dan kelemahan produk mereka sehingga dapat menetapkan strategi untuk meningkatkan daya saing.\n",
        "<br>\n",
        "### **Assess Situation**\n",
        "\n",
        "Situasi bisnis yang mendasari analisis ini adalah kemungkinan pasar coklat menjadi semakin kompetitif dengan pergeseran dalam preferensi konsumen seiring berjalannya waktu. Oleh karena itu, perusahaan perlu memahami lebih baik bagaimana produk mereka dibandingkan dengan pesaing agar dapat menetapkan strategi untuk dapat terus bertahan dipasar.\n",
        "<br>\n",
        "### **Data Mining Goals**\n",
        "\n",
        "Tujuan dari data mining dataset ini adalah untuk menganalisis terkait preferensi konsumen terhadap berbagai atribut produk cokelat, dengan harapan dapat meningkatkan kualitas produk dan meningkatkan kepuasan pelanggan. Selain itu, analisis data ini juga bertujuan untuk mengeksplorasi dan memahami dinamika persaingan industri dengan membandingkan rating produk, agar dapat mengidentifikasi dan memperbaiki kelemahan untuk meningkatkan daya saing.\n",
        "<br>\n",
        "### **Project Plan**\n",
        "\n",
        "Dalam menganalisis dataset ini, langkah-langkah dimulai dengan memahami dataset secara mendalam, termasuk struktur dan atribut yang ada. Setelah itu, data akan dibersihkan dan disiapkan untuk analisis dengan menangani masalah seperti data yang hilang, duplikat, dan tidak valid. Selanjutnya, analisis akan difokuskan pada preferensi konsumen, dengan mencari pola atau tren terkait preferensi rasa, tekstur, atau atribut lain yang mempengaruhi rating produk cokelat. Evaluasi dilakukan terhadap metode analisis yang digunakan untuk memastikan kualitas hasil analisis, sementara visualisasi data digunakan untuk menyajikan temuan secara jelas. Hasil analisis akan didokumentasikan dan disampaikan kepada pemangku kepentingan untuk mendukung pengambilan keputusan yang didasarkan pada informasi yang akurat dan relevan."
      ],
      "metadata": {
        "id": "_WMbcd4dRBR2"
      }
    },
    {
      "cell_type": "markdown",
      "source": [],
      "metadata": {
        "id": "fwh3dWn2UqwI"
      }
    }
  ]
}
